{
  "nbformat": 4,
  "nbformat_minor": 0,
  "metadata": {
    "colab": {
      "provenance": [],
      "authorship_tag": "ABX9TyPLNT29/CH+MP06jY8xpaWf",
      "include_colab_link": true
    },
    "kernelspec": {
      "name": "python3",
      "display_name": "Python 3"
    },
    "language_info": {
      "name": "python"
    }
  },
  "cells": [
    {
      "cell_type": "markdown",
      "metadata": {
        "id": "view-in-github",
        "colab_type": "text"
      },
      "source": [
        "<a href=\"https://colab.research.google.com/github/CristhianSeverino/OilStream/blob/staging/DI_RealTimeOil.ipynb\" target=\"_parent\"><img src=\"https://colab.research.google.com/assets/colab-badge.svg\" alt=\"Open In Colab\"/></a>"
      ]
    },
    {
      "cell_type": "markdown",
      "source": [
        "# **Real Time Oil**\n",
        "## Data ingest. Generator sitetic Data\n",
        "\n",
        "> Prospero dia! ☕, **Diviertete explorando este proyecto.**\n",
        "\n",
        "Este Notebook es creacion de: **Cristhian Calle Severino**.\n",
        "\n",
        "\n",
        "\n",
        "*   **Github**: https://github.com/CristhianSeverino\n",
        "*   **Linkedin**: https://www.linkedin.com/in/cristhianandrescalleseverino/\n",
        "\n",
        "\n",
        "\n",
        "\n",
        "Proyecto inspirado en el sector OIL, Este proyecto sera orquestado end to end en **Snowflake ❄** and **AWS S3**.\n",
        "\n",
        "**Incluye:**\n",
        "\n",
        "* **Creacion de Datos Sinteticos** - Este proceso simula la ingesta en tiempo real de datos desde diversas fuentes. los datos creados con este notebook seran cargados en un bucket de s3 para su orquestacion en sowflake.\n",
        "\n",
        "* **ITD** - Ingest, Transform and delivery informartionl. End to end data product. Data product is streamlit app.\n",
        "\n",
        "* **DevOps** - se establece control de versiones via Git y copia de repositorio en github. se considera la rama main de este repositorrio como producción y la rama Staging como en desarrollo. 🐱‍👤\n",
        "\n",
        "\n",
        "Link Repositorio:"
      ],
      "metadata": {
        "id": "HE2Lpmvf69Av"
      }
    },
    {
      "cell_type": "markdown",
      "source": [
        "# **Install and import Librrarys** 🤗"
      ],
      "metadata": {
        "id": "q_eH0xP1AP3M"
      }
    },
    {
      "cell_type": "code",
      "source": [
        "!pip install faker\n",
        "!pip install boto3\n",
        "!pip install awscli\n",
        "print(\"=\"*50)\n",
        "print(\"Instaladas las librerias y CLI de AWS\")\n",
        "print(\"=\"*50)\n",
        "import pandas as pd\n",
        "import numpy as np\n",
        "from faker import Faker\n",
        "from datetime import datetime, timedelta\n",
        "import os\n",
        "from google.colab import userdata\n",
        "import boto3\n",
        "print(\"=\"*50)\n",
        "print(\"Librerias importadas\")\n",
        "print(\"=\"*50)"
      ],
      "metadata": {
        "colab": {
          "base_uri": "https://localhost:8080/"
        },
        "id": "ZyvvaGJw68vu",
        "outputId": "f5de0e18-e7b1-4608-bf93-428409ac2162"
      },
      "execution_count": 13,
      "outputs": [
        {
          "output_type": "stream",
          "name": "stdout",
          "text": [
            "Requirement already satisfied: faker in /usr/local/lib/python3.12/dist-packages (37.6.0)\n",
            "Requirement already satisfied: tzdata in /usr/local/lib/python3.12/dist-packages (from faker) (2025.2)\n",
            "Requirement already satisfied: boto3 in /usr/local/lib/python3.12/dist-packages (1.40.30)\n",
            "Requirement already satisfied: botocore<1.41.0,>=1.40.30 in /usr/local/lib/python3.12/dist-packages (from boto3) (1.40.30)\n",
            "Requirement already satisfied: jmespath<2.0.0,>=0.7.1 in /usr/local/lib/python3.12/dist-packages (from boto3) (1.0.1)\n",
            "Requirement already satisfied: s3transfer<0.15.0,>=0.14.0 in /usr/local/lib/python3.12/dist-packages (from boto3) (0.14.0)\n",
            "Requirement already satisfied: python-dateutil<3.0.0,>=2.1 in /usr/local/lib/python3.12/dist-packages (from botocore<1.41.0,>=1.40.30->boto3) (2.9.0.post0)\n",
            "Requirement already satisfied: urllib3!=2.2.0,<3,>=1.25.4 in /usr/local/lib/python3.12/dist-packages (from botocore<1.41.0,>=1.40.30->boto3) (2.5.0)\n",
            "Requirement already satisfied: six>=1.5 in /usr/local/lib/python3.12/dist-packages (from python-dateutil<3.0.0,>=2.1->botocore<1.41.0,>=1.40.30->boto3) (1.17.0)\n",
            "Requirement already satisfied: awscli in /usr/local/lib/python3.12/dist-packages (1.42.30)\n",
            "Requirement already satisfied: botocore==1.40.30 in /usr/local/lib/python3.12/dist-packages (from awscli) (1.40.30)\n",
            "Requirement already satisfied: docutils<=0.19,>=0.18.1 in /usr/local/lib/python3.12/dist-packages (from awscli) (0.19)\n",
            "Requirement already satisfied: s3transfer<0.15.0,>=0.14.0 in /usr/local/lib/python3.12/dist-packages (from awscli) (0.14.0)\n",
            "Requirement already satisfied: PyYAML<6.1,>=3.10 in /usr/local/lib/python3.12/dist-packages (from awscli) (6.0.2)\n",
            "Requirement already satisfied: colorama<0.4.7,>=0.2.5 in /usr/local/lib/python3.12/dist-packages (from awscli) (0.4.6)\n",
            "Requirement already satisfied: rsa<4.8,>=3.1.2 in /usr/local/lib/python3.12/dist-packages (from awscli) (4.7.2)\n",
            "Requirement already satisfied: jmespath<2.0.0,>=0.7.1 in /usr/local/lib/python3.12/dist-packages (from botocore==1.40.30->awscli) (1.0.1)\n",
            "Requirement already satisfied: python-dateutil<3.0.0,>=2.1 in /usr/local/lib/python3.12/dist-packages (from botocore==1.40.30->awscli) (2.9.0.post0)\n",
            "Requirement already satisfied: urllib3!=2.2.0,<3,>=1.25.4 in /usr/local/lib/python3.12/dist-packages (from botocore==1.40.30->awscli) (2.5.0)\n",
            "Requirement already satisfied: pyasn1>=0.1.3 in /usr/local/lib/python3.12/dist-packages (from rsa<4.8,>=3.1.2->awscli) (0.6.1)\n",
            "Requirement already satisfied: six>=1.5 in /usr/local/lib/python3.12/dist-packages (from python-dateutil<3.0.0,>=2.1->botocore==1.40.30->awscli) (1.17.0)\n",
            "==================================================\n",
            "Instaladas las librerias y CLI de AWS\n",
            "==================================================\n",
            "==================================================\n",
            "Librerias importadas\n",
            "==================================================\n"
          ]
        }
      ]
    },
    {
      "cell_type": "markdown",
      "source": [
        "# **Cration or Generation sintetic Data**"
      ],
      "metadata": {
        "id": "wOZXkbeXAYRL"
      }
    },
    {
      "cell_type": "code",
      "execution_count": 14,
      "metadata": {
        "id": "GxaBPxPr60Rp"
      },
      "outputs": [],
      "source": [
        "\n",
        "\n",
        "def generate_oil_data(output_file='oil_data.csv'):\n",
        "    \"\"\"\n",
        "    Genera datos fake para estaciones de petróleo con KPIs minuto a minuto por 24 horas.\n",
        "    Guarda el DataFrame en un archivo CSV y lo devuelve.\n",
        "\n",
        "    Parámetros:\n",
        "    - output_file: Nombre del archivo CSV donde guardar los datos (por defecto 'oil_data.csv').\n",
        "\n",
        "    Retorna:\n",
        "    - pd.DataFrame: El DataFrame generado.\n",
        "    \"\"\"\n",
        "    estaciones = [f\"EST_{i:02d}\" for i in range(1, 8)]  # 7 estaciones\n",
        "    kpis = [\"caudal\", \"presion\", \"temperatura\"]  # 3 KPIs por estación\n",
        "\n",
        "    # Crear timestamp minuto a minuto por 24 horas\n",
        "    timestamps = [datetime(2024, 6, 1, 0, 0) + timedelta(minutes=i) for i in range(1440)]\n",
        "\n",
        "    # Generar datos\n",
        "    data = []\n",
        "    for timestamp in timestamps:\n",
        "        for estacion in estaciones:\n",
        "            for kpi in kpis:\n",
        "                # Valores realistas por tipo de KPI\n",
        "                if kpi == \"caudal\":\n",
        "                    valor = round(np.random.uniform(100, 500), 2)\n",
        "                elif kpi == \"presion\":\n",
        "                    valor = round(np.random.uniform(10, 100), 2)\n",
        "                else:  # temperatura\n",
        "                    valor = round(np.random.uniform(20, 40), 2)\n",
        "\n",
        "                data.append({\n",
        "                    \"timestamp\": timestamp,\n",
        "                    \"estacion\": estacion,\n",
        "                    \"kpi\": kpi,\n",
        "                    \"valor\": valor\n",
        "                })\n",
        "\n",
        "    df = pd.DataFrame(data)\n",
        "    df.to_csv(output_file, index=False)  # Guarda en CSV sin índice\n",
        "    return df"
      ]
    },
    {
      "cell_type": "code",
      "source": [
        "df = generate_oil_data('streamoil.csv')\n",
        "print(df.head())"
      ],
      "metadata": {
        "colab": {
          "base_uri": "https://localhost:8080/"
        },
        "id": "wiRptxyc_pPP",
        "outputId": "bf267fe5-64b2-4f3c-bfd0-599d90cb5ac3"
      },
      "execution_count": 15,
      "outputs": [
        {
          "output_type": "stream",
          "name": "stdout",
          "text": [
            "   timestamp estacion          kpi   valor\n",
            "0 2024-06-01   EST_01       caudal  168.18\n",
            "1 2024-06-01   EST_01      presion   11.40\n",
            "2 2024-06-01   EST_01  temperatura   25.77\n",
            "3 2024-06-01   EST_02       caudal  440.00\n",
            "4 2024-06-01   EST_02      presion   42.00\n"
          ]
        }
      ]
    },
    {
      "cell_type": "markdown",
      "source": [
        "# **Ingest**\n",
        "\n",
        "> Simulated Ingest, Load ingest in **Bucket S3 de AWS**."
      ],
      "metadata": {
        "id": "oiGkYJFD_4pb"
      }
    },
    {
      "cell_type": "code",
      "source": [
        "\n",
        "# 1. Leer las credenciales desde los Secrets de Colab\n",
        "# Secretos de colab. Se ejecuta como variables de entorno por seguridad de los datos sensibles\n",
        "aws_access_key_id = userdata.get('AWS_ACCESS_KEY_ID')\n",
        "aws_secret_access_key = userdata.get('AWS_SECRET_ACCESS_KEY')\n",
        "region_name = userdata.get('AWS_REGION')\n",
        "\n",
        "\n",
        "# 2. Crear los archivos de configuración de AWS\n",
        "# Directorio y Archivo de Credenciales\n",
        "aws_dir = '/root/.aws'\n",
        "os.makedirs(aws_dir, exist_ok=True)\n",
        "\n",
        "# Escribir el archivo 'credentials'\n",
        "with open(os.path.join(aws_dir, 'credentials'), 'w') as f:\n",
        "    f.write(f'[default]\\n')\n",
        "    f.write(f'aws_access_key_id = {aws_access_key_id}\\n')\n",
        "    f.write(f'aws_secret_access_key = {aws_secret_access_key}\\n')\n",
        "\n",
        "# Escribir el archivo 'config'\n",
        "with open(os.path.join(aws_dir, 'config'), 'w') as f:\n",
        "    f.write(f'[default]\\n')\n",
        "    f.write(f'region = {region_name}\\n')\n",
        "\n",
        "print(\"Archivos de configuración de AWS creados exitosamente.\")"
      ],
      "metadata": {
        "colab": {
          "base_uri": "https://localhost:8080/"
        },
        "id": "nS4ucoyBA3PN",
        "outputId": "0f8b8974-9d21-46c6-ff75-1ae089c91605"
      },
      "execution_count": 18,
      "outputs": [
        {
          "output_type": "stream",
          "name": "stdout",
          "text": [
            "Archivos de configuración de AWS creados exitosamente.\n"
          ]
        }
      ]
    },
    {
      "cell_type": "code",
      "source": [
        "! aws s3 ls"
      ],
      "metadata": {
        "colab": {
          "base_uri": "https://localhost:8080/"
        },
        "id": "8VqyKflPBDk7",
        "outputId": "3443d535-da43-49e7-f684-259e173cfbb0"
      },
      "execution_count": 19,
      "outputs": [
        {
          "output_type": "stream",
          "name": "stdout",
          "text": [
            "2025-08-29 01:13:25 aws-glue-assets-174856166333-us-east-2\n",
            "2025-09-15 15:39:19 oilstream\n",
            "2025-08-29 12:31:07 transform-360-afiliados\n",
            "2025-08-28 22:05:30 vision-360-afiliados\n"
          ]
        }
      ]
    },
    {
      "cell_type": "code",
      "source": [
        "\n",
        "# Configura tu bucket y credenciales\n",
        "bucket_name = 'oilstream'\n",
        "s3 = boto3.client('s3')\n",
        "\n",
        "def upload_to_s3(local_file, s3_path):\n",
        "    s3.upload_file(local_file, bucket_name, s3_path)\n",
        "    print(f\"Subido {local_file} a s3://{bucket_name}/{s3_path}\")\n",
        "\n",
        "upload_to_s3('streamoil.csv', 'stream_dayli_camp_oil/streamoil.csv')\n"
      ],
      "metadata": {
        "colab": {
          "base_uri": "https://localhost:8080/"
        },
        "id": "F46dIN7ACErs",
        "outputId": "f806b98e-e5f8-487b-8abb-0b4913ae6b82"
      },
      "execution_count": 21,
      "outputs": [
        {
          "output_type": "stream",
          "name": "stdout",
          "text": [
            "Subido streamoil.csv a s3://oilstream/stream_dayli_camp_oil/streamoil.csv\n"
          ]
        }
      ]
    },
    {
      "cell_type": "markdown",
      "source": [
        "# ***Verifica la Crreacion de los CSV en el icono de carpeta.costado izquiero de colab***\n",
        "\n",
        "> **Diviertete Explorando Este Proyecto**🌻\n",
        "\n",
        "Si te fue de ayuda este proyecto, pasa por mi linkedin y cuentame como te ayudo ☕\n",
        "\n",
        "Visita el repositorio de este proyecto:🐱‍👤\n",
        "* https://github.com/CristhianSeverino/OilStream.git"
      ],
      "metadata": {
        "id": "NsoHBKoMDtBW"
      }
    },
    {
      "cell_type": "code",
      "source": [],
      "metadata": {
        "id": "AP8yXDNOED8v"
      },
      "execution_count": null,
      "outputs": []
    }
  ]
}